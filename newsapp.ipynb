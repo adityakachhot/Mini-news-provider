{
 "cells": [
  {
   "cell_type": "code",
   "execution_count": null,
   "id": "3ec9b019-35de-43ef-9825-218d005f08b1",
   "metadata": {},
   "outputs": [],
   "source": [
    "\n",
    "import requests\n",
    "\n",
    "url = 'https://newsapi.org/v2/everything'\n",
    "params = {\n",
    "    'q': input(\"What news are you interested in today\"),\n",
    "    'sortBy': 'publishedAt',\n",
    "    'language': 'en',\n",
    "    'apiKey': '7711ec11e27c4f0ab96c6603b8142286'\n",
    "}\n",
    "response = requests.get(url, params=params)\n",
    "data = response.json()\n",
    "\n",
    "articles = data[\"articles\"]\n",
    "\n",
    "for article in articles:\n",
    "    print(article[\"title\"],[article[\"url\"]])\n",
    "\n",
    "    print(\"\\n***************************************\\n\")\n"
   ]
  },
  {
   "cell_type": "code",
   "execution_count": null,
   "id": "c6d0e087-3be8-40bf-8c68-1b56d5a963fd",
   "metadata": {},
   "outputs": [],
   "source": []
  }
 ],
 "metadata": {
  "kernelspec": {
   "display_name": "Python [conda env:base] *",
   "language": "python",
   "name": "conda-base-py"
  },
  "language_info": {
   "codemirror_mode": {
    "name": "ipython",
    "version": 3
   },
   "file_extension": ".py",
   "mimetype": "text/x-python",
   "name": "python",
   "nbconvert_exporter": "python",
   "pygments_lexer": "ipython3",
   "version": "3.12.7"
  }
 },
 "nbformat": 4,
 "nbformat_minor": 5
}
